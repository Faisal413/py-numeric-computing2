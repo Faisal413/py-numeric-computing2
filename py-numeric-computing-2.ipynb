{
 "cells": [
  {
   "cell_type": "markdown",
   "id": "b91a1a14",
   "metadata": {},
   "source": [
    "# Py-Numeric-Computing Assignment Answers\n",
    "\n",
    "## Part 1: Array Slicing and Indexing"
   ]
  },
  {
   "cell_type": "code",
   "execution_count": 4,
   "id": "163e99eb",
   "metadata": {},
   "outputs": [],
   "source": [
    "import numpy as np"
   ]
  },
  {
   "cell_type": "markdown",
   "id": "3f4caa96",
   "metadata": {},
   "source": [
    "##### 2. Given a 1D numpy array x, write the syntax used to return only the odd-indexed entries (return every other entry) of x. There is more than one solution!"
   ]
  },
  {
   "cell_type": "code",
   "execution_count": 6,
   "id": "5cfdea8f",
   "metadata": {},
   "outputs": [
    {
     "data": {
      "text/plain": [
       "array([1, 3, 5, 7, 9])"
      ]
     },
     "execution_count": 6,
     "metadata": {},
     "output_type": "execute_result"
    }
   ],
   "source": [
    "x = np.arange(10)\n",
    "y = x[x % 2 != 0]\n",
    "y"
   ]
  },
  {
   "cell_type": "markdown",
   "id": "9d067812",
   "metadata": {},
   "source": [
    "##### 3. Given an integer numpy array of 0's and 1's, write a function that creates a new array where 0's are replaced with the word \"red\" and 1's are replaced with the word \"blue\"."
   ]
  },
  {
   "cell_type": "code",
   "execution_count": 7,
   "id": "e8c3d3a3",
   "metadata": {},
   "outputs": [
    {
     "data": {
      "text/plain": [
       "array(['red', 'red', 'blue', 'red', 'blue'], dtype='<U4')"
      ]
     },
     "execution_count": 7,
     "metadata": {},
     "output_type": "execute_result"
    }
   ],
   "source": [
    "x = np.array([0, 0, 1, 0, 1]) \n",
    "\n",
    "def color_replace(x):\n",
    "    return np.where(x == 0, \"red\", \"blue\")\n",
    "\n",
    "color_replace(x)"
   ]
  },
  {
   "cell_type": "markdown",
   "id": "f4f4657b",
   "metadata": {},
   "source": [
    "##### 4. Given a square numpy array X, write a function that replaces the diagonal elements with a given constant. Hint: you can use ONE for loop in this function!"
   ]
  },
  {
   "cell_type": "code",
   "execution_count": 8,
   "id": "d86d649c",
   "metadata": {},
   "outputs": [
    {
     "data": {
      "text/plain": [
       "array([[ 6,  6, 10,  4,  8,  8],\n",
       "       [ 2,  1,  6,  9, 10, 10],\n",
       "       [ 1,  9,  7,  9,  9,  1],\n",
       "       [ 4,  4,  6,  4, 10,  2],\n",
       "       [ 9,  8,  6,  6,  7,  4],\n",
       "       [ 2,  4, 10,  5,  6,  8]])"
      ]
     },
     "execution_count": 8,
     "metadata": {},
     "output_type": "execute_result"
    }
   ],
   "source": [
    "\n",
    "x = np.random.randint(1, 11, size=(6, 6))\n",
    "x"
   ]
  },
  {
   "cell_type": "code",
   "execution_count": 9,
   "id": "aecf8f9c",
   "metadata": {},
   "outputs": [
    {
     "data": {
      "text/plain": [
       "array([[ 0,  6, 10,  4,  8,  8],\n",
       "       [ 2,  0,  6,  9, 10, 10],\n",
       "       [ 1,  9,  0,  9,  9,  1],\n",
       "       [ 4,  4,  6,  0, 10,  2],\n",
       "       [ 9,  8,  6,  6,  0,  4],\n",
       "       [ 2,  4, 10,  5,  6,  0]])"
      ]
     },
     "execution_count": 9,
     "metadata": {},
     "output_type": "execute_result"
    }
   ],
   "source": [
    "\n",
    "def diagonal_replace(x):\n",
    "    y = np.fill_diagonal(x, 0)\n",
    "    return x\n",
    "\n",
    "diagonal_replace(x)"
   ]
  },
  {
   "cell_type": "markdown",
   "id": "4023c8eb",
   "metadata": {},
   "source": [
    "##### 5. Given two equal length arrays, x with some general numeric data, and b an array of booleans, write a function that computes the sum of the data in x at the same positions where b is True, and the sum of the values in x at the positions where b is False."
   ]
  },
  {
   "cell_type": "code",
   "execution_count": 10,
   "id": "a4d9c435",
   "metadata": {},
   "outputs": [
    {
     "data": {
      "text/plain": [
       "'True: 4 , False: 11'"
      ]
     },
     "execution_count": 10,
     "metadata": {},
     "output_type": "execute_result"
    }
   ],
   "source": [
    "\n",
    "x = np.array([0,    1,    2,     3,    4,     5])\n",
    "b = np.array([True, True, False, True, False, False])\n",
    "\n",
    "def compute_true_false_sums(x, b):\n",
    "    return \"True: \" + str(sum(x[b])) +\" , False: \" + str(sum(x[np.invert(b)]))\n",
    "    \n",
    "compute_true_false_sums(x, b)"
   ]
  },
  {
   "cell_type": "markdown",
   "id": "122f0231",
   "metadata": {},
   "source": [
    "#### 6. Given a two-dimensional array M, create a new two-dimensional array containing only the columns of M where at least one of the entries is negative."
   ]
  },
  {
   "cell_type": "code",
   "execution_count": 11,
   "id": "0e06deae",
   "metadata": {},
   "outputs": [
    {
     "data": {
      "text/plain": [
       "array([[ 0.5,  0.2, -0.3],\n",
       "       [ 0.4,  0.3,  0.3],\n",
       "       [-0.2, -0.4,  0.1]])"
      ]
     },
     "execution_count": 11,
     "metadata": {},
     "output_type": "execute_result"
    }
   ],
   "source": [
    "\n",
    "M = np.array([[ 0.5,  0.2, -0.3,  0. ],\n",
    "              [ 0.4,  0.3,  0.3,  0.4],\n",
    "              [-0.2, -0.4,  0.1,  0.4]])\n",
    "\n",
    "def select_negative_columns(M):\n",
    "    return M[:, (M < 0).any(axis=0)]\n",
    "\n",
    "select_negative_columns(M)"
   ]
  },
  {
   "cell_type": "markdown",
   "id": "506cc2c0",
   "metadata": {},
   "source": [
    "## Part 2: Applying Operations"
   ]
  },
  {
   "cell_type": "code",
   "execution_count": 14,
   "id": "ad2ad074",
   "metadata": {},
   "outputs": [
    {
     "data": {
      "text/plain": [
       "array([0, 1, 2, 3, 4, 5, 6, 7, 8, 9])"
      ]
     },
     "execution_count": 14,
     "metadata": {},
     "output_type": "execute_result"
    }
   ],
   "source": [
    "a = np.arange(10)\n",
    "a"
   ]
  },
  {
   "cell_type": "markdown",
   "id": "c84133cb",
   "metadata": {},
   "source": [
    "##### 1. Take the natural log of the entire array a."
   ]
  },
  {
   "cell_type": "code",
   "execution_count": 15,
   "id": "b946d8ba",
   "metadata": {},
   "outputs": [
    {
     "data": {
      "text/plain": [
       "array([0.        , 0.69314718, 1.09861229, 1.38629436, 1.60943791,\n",
       "       1.79175947, 1.94591015, 2.07944154, 2.19722458])"
      ]
     },
     "execution_count": 15,
     "metadata": {},
     "output_type": "execute_result"
    }
   ],
   "source": [
    "np.log(a[1:])"
   ]
  },
  {
   "cell_type": "markdown",
   "id": "f45ec970",
   "metadata": {},
   "source": [
    "##### 2. Compute the cumulative sum of array a."
   ]
  },
  {
   "cell_type": "code",
   "execution_count": 16,
   "id": "371f0dc9",
   "metadata": {},
   "outputs": [
    {
     "data": {
      "text/plain": [
       "array([ 0,  1,  3,  6, 10, 15, 21, 28, 36, 45], dtype=int32)"
      ]
     },
     "execution_count": 16,
     "metadata": {},
     "output_type": "execute_result"
    }
   ],
   "source": [
    "np.cumsum(a)"
   ]
  },
  {
   "cell_type": "markdown",
   "id": "a50c2991",
   "metadata": {},
   "source": [
    "##### 3. Write a function that consumes a two-dimensional numpy array (so, a matrix), and a label which is either \"row\" or \"column\". The function should return a one-dimensional numpy array (vector) with either the row or column averages."
   ]
  },
  {
   "cell_type": "code",
   "execution_count": 17,
   "id": "33d64ee3",
   "metadata": {},
   "outputs": [
    {
     "name": "stdout",
     "output_type": "stream",
     "text": [
      "Input \"column\" or \"row\": column\n"
     ]
    },
    {
     "data": {
      "text/plain": [
       "array([0.5, 1.5])"
      ]
     },
     "execution_count": 17,
     "metadata": {},
     "output_type": "execute_result"
    }
   ],
   "source": [
    "x = np.array([[0, 1], [2, 1]])\n",
    "\n",
    "\n",
    "def row_or_column_means(x,label):\n",
    "    label = input('Input \"column\" or \"row\": ')\n",
    "    if label == \"column\":\n",
    "        return np.mean(x, axis=1)\n",
    "    elif label == \"row\":\n",
    "        return np.mean(x, axis=0)\n",
    "    else:\n",
    "        return \"incompatible input\"\n",
    "\n",
    "row_or_column_means(x, \"column\")"
   ]
  },
  {
   "cell_type": "markdown",
   "id": "5ed890a5",
   "metadata": {},
   "source": [
    "##### 4. Subtract the row mean from each row of a two-dimensional array (element by element)."
   ]
  },
  {
   "cell_type": "code",
   "execution_count": 18,
   "id": "f98ff551",
   "metadata": {},
   "outputs": [
    {
     "data": {
      "text/plain": [
       "array([[-0.5,  0.5, -0.5,  0.5],\n",
       "       [ 0. ,  0. ,  0. ,  0. ],\n",
       "       [-1.5, -0.5,  0.5,  1.5]])"
      ]
     },
     "execution_count": 18,
     "metadata": {},
     "output_type": "execute_result"
    }
   ],
   "source": [
    "x = np.array([[0, 1, 0, 1], [1, 1, 1, 1], [1, 2, 3, 4]])\n",
    "\n",
    "def subtract_row_means(x):\n",
    "    column_vector = np.mean(x, axis = 1).reshape(3,1)\n",
    "    return x - column_vector\n",
    "\n",
    "subtract_row_means(x)"
   ]
  },
  {
   "cell_type": "markdown",
   "id": "6c970d5c",
   "metadata": {},
   "source": [
    "## Part 3: Broadcasting"
   ]
  },
  {
   "cell_type": "markdown",
   "id": "5086b799",
   "metadata": {},
   "source": [
    "##### 1. Same size broadcasting: start with arrays x and y. Compute the element-wise: sum, difference, product, division, and modular division of x and y."
   ]
  },
  {
   "cell_type": "code",
   "execution_count": 20,
   "id": "67b7a5c5",
   "metadata": {},
   "outputs": [],
   "source": [
    "x = np.array([1, 2, 3, 4, 5, 6])\n",
    "y = np.array([2, 4, 6, 8, 10, 12])"
   ]
  },
  {
   "cell_type": "code",
   "execution_count": 21,
   "id": "9cb0d391",
   "metadata": {},
   "outputs": [
    {
     "data": {
      "text/plain": [
       "array([ 3,  6,  9, 12, 15, 18])"
      ]
     },
     "execution_count": 21,
     "metadata": {},
     "output_type": "execute_result"
    }
   ],
   "source": [
    "x + y"
   ]
  },
  {
   "cell_type": "code",
   "execution_count": 22,
   "id": "72f69dd4",
   "metadata": {},
   "outputs": [
    {
     "data": {
      "text/plain": [
       "array([-1, -2, -3, -4, -5, -6])"
      ]
     },
     "execution_count": 22,
     "metadata": {},
     "output_type": "execute_result"
    }
   ],
   "source": [
    "\n",
    "x - y"
   ]
  },
  {
   "cell_type": "code",
   "execution_count": 23,
   "id": "1d818a64",
   "metadata": {},
   "outputs": [
    {
     "data": {
      "text/plain": [
       "array([ 2,  8, 18, 32, 50, 72])"
      ]
     },
     "execution_count": 23,
     "metadata": {},
     "output_type": "execute_result"
    }
   ],
   "source": [
    "\n",
    "x * y\n"
   ]
  },
  {
   "cell_type": "code",
   "execution_count": 24,
   "id": "7c9cb4fe",
   "metadata": {},
   "outputs": [
    {
     "data": {
      "text/plain": [
       "array([0.5, 0.5, 0.5, 0.5, 0.5, 0.5])"
      ]
     },
     "execution_count": 24,
     "metadata": {},
     "output_type": "execute_result"
    }
   ],
   "source": [
    "x / y"
   ]
  },
  {
   "cell_type": "code",
   "execution_count": 25,
   "id": "d65ced71",
   "metadata": {},
   "outputs": [
    {
     "data": {
      "text/plain": [
       "array([1, 2, 3, 4, 5, 6], dtype=int32)"
      ]
     },
     "execution_count": 25,
     "metadata": {},
     "output_type": "execute_result"
    }
   ],
   "source": [
    "x % y"
   ]
  },
  {
   "cell_type": "markdown",
   "id": "36c8b258",
   "metadata": {},
   "source": [
    "##### 2. Single digit broadcasting: continue using array y defined above. Compute the element-wise: sum, difference, product, division, and modular division of y and 2."
   ]
  },
  {
   "cell_type": "code",
   "execution_count": 26,
   "id": "fed693ff",
   "metadata": {},
   "outputs": [
    {
     "data": {
      "text/plain": [
       "array([ 4,  6,  8, 10, 12, 14])"
      ]
     },
     "execution_count": 26,
     "metadata": {},
     "output_type": "execute_result"
    }
   ],
   "source": [
    "y + 2"
   ]
  },
  {
   "cell_type": "code",
   "execution_count": 27,
   "id": "786cef4a",
   "metadata": {},
   "outputs": [
    {
     "data": {
      "text/plain": [
       "array([ 0,  2,  4,  6,  8, 10])"
      ]
     },
     "execution_count": 27,
     "metadata": {},
     "output_type": "execute_result"
    }
   ],
   "source": [
    "y - 2"
   ]
  },
  {
   "cell_type": "code",
   "execution_count": 28,
   "id": "158e4af7",
   "metadata": {},
   "outputs": [
    {
     "data": {
      "text/plain": [
       "array([ 4,  8, 12, 16, 20, 24])"
      ]
     },
     "execution_count": 28,
     "metadata": {},
     "output_type": "execute_result"
    }
   ],
   "source": [
    "y * 2"
   ]
  },
  {
   "cell_type": "code",
   "execution_count": 29,
   "id": "ac58136b",
   "metadata": {},
   "outputs": [
    {
     "data": {
      "text/plain": [
       "array([1., 2., 3., 4., 5., 6.])"
      ]
     },
     "execution_count": 29,
     "metadata": {},
     "output_type": "execute_result"
    }
   ],
   "source": [
    "y / 2"
   ]
  },
  {
   "cell_type": "code",
   "execution_count": 30,
   "id": "6027b591",
   "metadata": {},
   "outputs": [
    {
     "data": {
      "text/plain": [
       "array([0, 0, 0, 0, 0, 0], dtype=int32)"
      ]
     },
     "execution_count": 30,
     "metadata": {},
     "output_type": "execute_result"
    }
   ],
   "source": [
    "y % 2"
   ]
  },
  {
   "cell_type": "markdown",
   "id": "29c293cc",
   "metadata": {},
   "source": [
    "##### 3. Broadcasting conditionals: Continue using arrays x and y defined above. Use conditional statements to get an elementwise boolean array for:\n",
    "###### elements of y that are greater than 5"
   ]
  },
  {
   "cell_type": "code",
   "execution_count": 31,
   "id": "eeed8ed6",
   "metadata": {},
   "outputs": [
    {
     "data": {
      "text/plain": [
       "array([False, False,  True,  True,  True,  True])"
      ]
     },
     "execution_count": 31,
     "metadata": {},
     "output_type": "execute_result"
    }
   ],
   "source": [
    "y > 5"
   ]
  },
  {
   "cell_type": "markdown",
   "id": "6380f2b7",
   "metadata": {},
   "source": [
    "###### elements of x that are divisible by 2 (hint: modular division by 2 leaves 0 remainder"
   ]
  },
  {
   "cell_type": "code",
   "execution_count": 32,
   "id": "aea70eae",
   "metadata": {},
   "outputs": [
    {
     "data": {
      "text/plain": [
       "array([False,  True, False,  True, False,  True])"
      ]
     },
     "execution_count": 32,
     "metadata": {},
     "output_type": "execute_result"
    }
   ],
   "source": [
    "x % 2 == 0"
   ]
  },
  {
   "cell_type": "markdown",
   "id": "20d1a5aa",
   "metadata": {},
   "source": [
    "##### 4. Broadcasting in multiple dimensions: Let's start with a new array x,"
   ]
  },
  {
   "cell_type": "code",
   "execution_count": 33,
   "id": "13e09211",
   "metadata": {},
   "outputs": [
    {
     "data": {
      "text/plain": [
       "array([[1., 1., 1., 1.],\n",
       "       [1., 1., 1., 1.],\n",
       "       [1., 1., 1., 1.],\n",
       "       [1., 1., 1., 1.],\n",
       "       [1., 1., 1., 1.]])"
      ]
     },
     "execution_count": 33,
     "metadata": {},
     "output_type": "execute_result"
    }
   ],
   "source": [
    "x = np.ones((5, 4))\n",
    "x"
   ]
  },
  {
   "cell_type": "markdown",
   "id": "fe5f3ce7",
   "metadata": {},
   "source": [
    "##### Try a broadcasting operation (e.g. multiplication) with x and array a = np.array([1, 2, 3, 4])."
   ]
  },
  {
   "cell_type": "code",
   "execution_count": 34,
   "id": "ecc91685",
   "metadata": {},
   "outputs": [
    {
     "data": {
      "text/plain": [
       "array([[1., 2., 3., 4.],\n",
       "       [1., 2., 3., 4.],\n",
       "       [1., 2., 3., 4.],\n",
       "       [1., 2., 3., 4.],\n",
       "       [1., 2., 3., 4.]])"
      ]
     },
     "execution_count": 34,
     "metadata": {},
     "output_type": "execute_result"
    }
   ],
   "source": [
    "a = np.array([1,2,3,4])\n",
    "x * a"
   ]
  }
 ],
 "metadata": {
  "kernelspec": {
   "display_name": "Python 3",
   "language": "python",
   "name": "python3"
  },
  "language_info": {
   "codemirror_mode": {
    "name": "ipython",
    "version": 3
   },
   "file_extension": ".py",
   "mimetype": "text/x-python",
   "name": "python",
   "nbconvert_exporter": "python",
   "pygments_lexer": "ipython3",
   "version": "3.8.8"
  }
 },
 "nbformat": 4,
 "nbformat_minor": 5
}
